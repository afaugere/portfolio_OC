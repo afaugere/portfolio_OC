{
 "cells": [
  {
   "cell_type": "code",
   "execution_count": 5,
   "id": "faa3ad63",
   "metadata": {},
   "outputs": [],
   "source": [
    "import numpy as np\n",
    "import pandas as pd\n",
    "import streamlit as st\n",
    "import json\n",
    "import requests"
   ]
  },
  {
   "cell_type": "code",
   "execution_count": 6,
   "id": "6b6dfcb9",
   "metadata": {},
   "outputs": [],
   "source": [
    "# Index Client à noter\n",
    "client = 10"
   ]
  },
  {
   "cell_type": "code",
   "execution_count": 7,
   "id": "89a2662e",
   "metadata": {},
   "outputs": [],
   "source": [
    "# conversion des données d'entrée en json\n",
    "input = {\"ID_CLIENT\" : client}"
   ]
  },
  {
   "cell_type": "code",
   "execution_count": 9,
   "id": "315f691e",
   "metadata": {},
   "outputs": [
    {
     "data": {
      "text/plain": [
       "'{\"message\":\"Welcome to the AF ML Model API\"}'"
      ]
     },
     "execution_count": 9,
     "metadata": {},
     "output_type": "execute_result"
    }
   ],
   "source": [
    "# test lien API\n",
    "res1 = requests.get(url = \"https://apiafgha.onrender.com\")\n",
    "res1.text"
   ]
  },
  {
   "cell_type": "code",
   "execution_count": 8,
   "id": "c78c1bc3",
   "metadata": {},
   "outputs": [
    {
     "data": {
      "text/plain": [
       "'{\"label\":[1],\"probability\":[0.8479179551542885]}'"
      ]
     },
     "execution_count": 8,
     "metadata": {},
     "output_type": "execute_result"
    }
   ],
   "source": [
    "# test prédiction\n",
    "res2 = requests.post(url = \"https://apiafgha.onrender.com/predict\", data = json.dumps(input))\n",
    "res2.text"
   ]
  },
  {
   "cell_type": "code",
   "execution_count": 9,
   "id": "e13c6067",
   "metadata": {},
   "outputs": [
    {
     "data": {
      "text/plain": [
       "'{\"EXT_SOURCE_1\":{\"0\":-0.48375302069958037},\"EXT_SOURCE_3\":{\"0\":-0.778929623477657},\"CREDIT_TYPE_Microloansum\":{\"0\":-11.272723136596616},\"DAYS_CREDITmean\":{\"0\":1.0453548178479684},\"CREDIT_ACTIVE_Activesum\":{\"0\":-1.4741860319711302},\"EXT_SOURCE_2\":{\"0\":26.67354448676231},\"DAYS_CREDITmax\":{\"0\":-0.03862029480662183},\"NAME_CONTRACT_STATUS_Refusedmedian_y\":{\"0\":0.2029806561401946},\"DAYS_CREDIT_UPDATEmax\":{\"0\":-16.008446111783144},\"NAME_CONTRACT_STATUS_Refusedmean_y\":{\"0\":1.452063274289528},\"REG_CITY_NOT_WORK_CITY\":{\"0\":0.22425713152527385},\"NAME_CONTRACT_STATUS_Approvedmedian\":{\"0\":0.29044605073902463},\"AMT_PAYMENTmin\":{\"0\":-0.1616748558424969},\"AMT_CREDIT_MAX_OVERDUEmean\":{\"0\":0.18432602381016636},\"AMT_CREDIT_SUM_DEBTmean\":{\"0\":0.3377834519281348},\"AMT_PAYMENTmedian\":{\"0\":2.4754601271143297},\"CODE_REJECT_REASON_SCOFRsum\":{\"0\":-1.403924320394438},\"AMT_DOWN_PAYMENTsum\":{\"0\":0.06345928786896676},\"NAME_PRODUCT_TYPE_walk-insum\":{\"0\":-1.9562300320029424},\"DAYS_ENTRY_PAYMENTmin\":{\"0\":1.8113071624098085},\"DAYS_LAST_PHONE_CHANGE\":{\"0\":0.19756387302339698},\"DAYS_FIRST_DRAWINGsum\":{\"0\":2.8506955572764365},\"DAYS_ID_PUBLISH\":{\"0\":-0.2900611640194238},\"REGION_RATING_CLIENT_W_CITY\":{\"0\":5.950123998764169}}'"
      ]
     },
     "execution_count": 9,
     "metadata": {},
     "output_type": "execute_result"
    }
   ],
   "source": [
    "# test prédiction\n",
    "res3 = requests.post(url = \"https://apiafgha.onrender.com/interpretation\", data = json.dumps(input))\n",
    "res3.text"
   ]
  },
  {
   "cell_type": "code",
   "execution_count": null,
   "id": "28fe5cbf",
   "metadata": {},
   "outputs": [],
   "source": []
  },
  {
   "cell_type": "code",
   "execution_count": null,
   "id": "fb20ef6b",
   "metadata": {},
   "outputs": [],
   "source": []
  }
 ],
 "metadata": {
  "kernelspec": {
   "display_name": "Python 3 (ipykernel)",
   "language": "python",
   "name": "python3"
  },
  "language_info": {
   "codemirror_mode": {
    "name": "ipython",
    "version": 3
   },
   "file_extension": ".py",
   "mimetype": "text/x-python",
   "name": "python",
   "nbconvert_exporter": "python",
   "pygments_lexer": "ipython3",
   "version": "3.8.18"
  }
 },
 "nbformat": 4,
 "nbformat_minor": 5
}
