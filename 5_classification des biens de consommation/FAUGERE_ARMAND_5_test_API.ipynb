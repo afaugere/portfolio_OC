{
 "cells": [
  {
   "cell_type": "markdown",
   "id": "64b2b1bd",
   "metadata": {},
   "source": [
    "# Test API"
   ]
  },
  {
   "cell_type": "markdown",
   "id": "c229654b",
   "metadata": {},
   "source": [
    "# Importation librairies "
   ]
  },
  {
   "cell_type": "code",
   "execution_count": 154,
   "id": "5b161626",
   "metadata": {},
   "outputs": [
    {
     "name": "stdout",
     "output_type": "stream",
     "text": [
      "# packages in environment at C:\\Users\\ARMAN\\anaconda3\\envs\\projet_6_OC:\n",
      "Note: you may need to restart the kernel to use updated packages.\n",
      "\n",
      "#\n",
      "# Name                    Version                   Build  Channel\n",
      "brotli-python             1.0.9            py38hd77b12b_7  \n",
      "google-api-python-client  2.108.0                  pypi_0    pypi\n",
      "ipython                   8.12.2           py38haa95532_0  \n",
      "ipython_genutils          0.2.0              pyhd3eb1b0_1  \n",
      "opencv-python-headless    4.8.1.78                 pypi_0    pypi\n",
      "python                    3.8.18               h1aa4202_0  \n",
      "python-dateutil           2.8.2              pyhd3eb1b0_0  \n",
      "python-fastjsonschema     2.16.2           py38haa95532_0  \n",
      "python-json-logger        2.0.7            py38haa95532_0  \n",
      "python-slugify            8.0.1                    pypi_0    pypi\n"
     ]
    }
   ],
   "source": [
    "conda list python"
   ]
  },
  {
   "cell_type": "code",
   "execution_count": 165,
   "id": "1d4feccc",
   "metadata": {},
   "outputs": [],
   "source": [
    "import numpy as np\n",
    "import pandas as pd\n",
    "import matplotlib.pyplot as plt\n",
    "import seaborn as sns\n",
    "import requests\n",
    "import time\n",
    "import json\n",
    "from dotenv import load_dotenv\n",
    "import os"
   ]
  },
  {
   "cell_type": "code",
   "execution_count": 157,
   "id": "e2499fe6",
   "metadata": {},
   "outputs": [],
   "source": [
    "# augmentation fenretre de lecture\n",
    "pd.set_option(\"display.max_rows\", 250)\n",
    "pd.set_option(\"display.max_columns\", 250)\n",
    "pd.set_option(\"display.max_colwidth\", 250)"
   ]
  },
  {
   "cell_type": "code",
   "execution_count": 190,
   "id": "e86db818",
   "metadata": {},
   "outputs": [
    {
     "data": {
      "text/plain": [
       "True"
      ]
     },
     "execution_count": 190,
     "metadata": {},
     "output_type": "execute_result"
    }
   ],
   "source": [
    "# chargement vriable env\n",
    "load_dotenv(\"tempo.env\")"
   ]
  },
  {
   "cell_type": "markdown",
   "id": "a0c7b212",
   "metadata": {},
   "source": [
    "# 1) Importation des data"
   ]
  },
  {
   "cell_type": "code",
   "execution_count": 193,
   "id": "90c5cc3b",
   "metadata": {},
   "outputs": [],
   "source": [
    "# Fonction d'utilisation de la base\n",
    "\n",
    "def edamam_use(produit) :\n",
    "# importation URL\n",
    "    url = \"https://edamam-food-and-grocery-database.p.rapidapi.com/api/food-database/v2/parser\"\n",
    "# requête\n",
    "    querystring = {\"ingr\":produit}\n",
    "# idenfifiant + lien vers base\n",
    "\n",
    "    headers = {\"X-RapidAPI-Key\": os.getenv(\"clé\"),\n",
    "    \"X-RapidAPI-Host\": \"edamam-food-and-grocery-database.p.rapidapi.com\"}\n",
    "# réponse requête\n",
    "    response = requests.get(url, headers=headers, params=querystring)\n",
    "    json_doc = response.json()\n",
    "# création dataframe produits\n",
    "    df_data = pd.json_normalize(pd.DataFrame(json_doc['hints'])[\"food\"].to_list())\n",
    "    df_data = df_data[[\"foodId\",\"label\",\"category\",\"foodContentsLabel\",\"image\"]]\n",
    "    return df_data\n",
    "    "
   ]
  },
  {
   "cell_type": "code",
   "execution_count": 194,
   "id": "9db2bd59",
   "metadata": {},
   "outputs": [
    {
     "name": "stdout",
     "output_type": "stream",
     "text": [
      " temps de traitement 1.733703374862671 secondes\n"
     ]
    }
   ],
   "source": [
    "# test sur le vin\n",
    "T0 = time.time()\n",
    "edamam_use(\"vin\")\n",
    "duration = time.time()-T0\n",
    "print(f\" temps de traitement {duration} secondes\")"
   ]
  },
  {
   "cell_type": "code",
   "execution_count": 160,
   "id": "27f94ef7",
   "metadata": {},
   "outputs": [
    {
     "name": "stdout",
     "output_type": "stream",
     "text": [
      " temps de traitement 0.9269299507141113 secondes\n"
     ]
    }
   ],
   "source": [
    "# produits à base de champagne\n",
    "T0 = time.time()\n",
    "edamam_use(\"champagne\")\n",
    "duration = time.time()-T0\n",
    "print(f\" temps de traitement {duration} secondes\")"
   ]
  },
  {
   "cell_type": "code",
   "execution_count": 161,
   "id": "d0349c24",
   "metadata": {},
   "outputs": [
    {
     "data": {
      "text/html": [
       "<div>\n",
       "<style scoped>\n",
       "    .dataframe tbody tr th:only-of-type {\n",
       "        vertical-align: middle;\n",
       "    }\n",
       "\n",
       "    .dataframe tbody tr th {\n",
       "        vertical-align: top;\n",
       "    }\n",
       "\n",
       "    .dataframe thead th {\n",
       "        text-align: right;\n",
       "    }\n",
       "</style>\n",
       "<table border=\"1\" class=\"dataframe\">\n",
       "  <thead>\n",
       "    <tr style=\"text-align: right;\">\n",
       "      <th></th>\n",
       "      <th>foodId</th>\n",
       "      <th>label</th>\n",
       "      <th>category</th>\n",
       "      <th>foodContentsLabel</th>\n",
       "      <th>image</th>\n",
       "    </tr>\n",
       "  </thead>\n",
       "  <tbody>\n",
       "    <tr>\n",
       "      <th>0</th>\n",
       "      <td>food_a656mk2a5dmqb2adiamu6beihduu</td>\n",
       "      <td>Champagne</td>\n",
       "      <td>Generic foods</td>\n",
       "      <td>NaN</td>\n",
       "      <td>https://www.edamam.com/food-img/a71/a718cf3c52add522128929f1f324d2ab.jpg</td>\n",
       "    </tr>\n",
       "    <tr>\n",
       "      <th>1</th>\n",
       "      <td>food_b753ithamdb8psbt0w2k9aquo06c</td>\n",
       "      <td>Champagne Vinaigrette, Champagne</td>\n",
       "      <td>Packaged foods</td>\n",
       "      <td>OLIVE OIL; BALSAMIC VINEGAR; CHAMPAGNE VINEGAR; GARLIC; DIJON MUSTARD; SEA SALT.</td>\n",
       "      <td>NaN</td>\n",
       "    </tr>\n",
       "    <tr>\n",
       "      <th>2</th>\n",
       "      <td>food_b3dyababjo54xobm6r8jzbghjgqe</td>\n",
       "      <td>Champagne Vinaigrette, Champagne</td>\n",
       "      <td>Packaged foods</td>\n",
       "      <td>INGREDIENTS: WATER; CANOLA OIL; CHAMPAGNE VINEGAR; SUGAR; OLIVE OIL; SALT; DRIED GARLIC; DRED SHALLOTS; BLACK PEPPER; XANTHAN GUM; SPICE</td>\n",
       "      <td>https://www.edamam.com/food-img/d88/d88b64d97349ed062368972113124e35.jpg</td>\n",
       "    </tr>\n",
       "    <tr>\n",
       "      <th>3</th>\n",
       "      <td>food_a9e0ghsamvoc45bwa2ybsa3gken9</td>\n",
       "      <td>Champagne Vinaigrette, Champagne</td>\n",
       "      <td>Packaged foods</td>\n",
       "      <td>CANOLA AND SOYBEAN OIL; WHITE WINE (CONTAINS SULFITES); WATER; VINEGARS (CHAMPAGNE AND WHITE WINE); SUGAR; SALT; MUSTARD SEED; MONOSODIUM GLUTAMATE; GARLIC*; ONION*; SPICE; XANTHAN GUM; MOLASSES; CALCIUM DISODIUM EDTA ADDED TO PROTECT FLAVOR; CHI...</td>\n",
       "      <td>NaN</td>\n",
       "    </tr>\n",
       "    <tr>\n",
       "      <th>4</th>\n",
       "      <td>food_an4jjueaucpus2a3u1ni8auhe7q9</td>\n",
       "      <td>Champagne Vinaigrette, Champagne</td>\n",
       "      <td>Packaged foods</td>\n",
       "      <td>WATER; CANOLA AND SOYBEAN OIL; WHITE WINE (CONTAINS SULFITES); VINEGARS (CHAMPAGNE AND WHITE WINE); SUGAR; SALT; MUSTARD SEED; MONOSODIUM GLUTAMATE; GARLIC*; ONION*; SPICE; XANTHAN GUM; POTASSIUM SORBATE ADDED TO MAINTAIN FRESHNESS; MOLASSES; CAL...</td>\n",
       "      <td>NaN</td>\n",
       "    </tr>\n",
       "    <tr>\n",
       "      <th>5</th>\n",
       "      <td>food_bmu5dmkazwuvpaa5prh1daa8jxs0</td>\n",
       "      <td>Champagne Dressing, Champagne</td>\n",
       "      <td>Packaged foods</td>\n",
       "      <td>SOYBEAN OIL; WHITE WINE (PRESERVED WITH SULFITES); WATER; WHITE WINE VINEGAR; SUGAR; SALT; SPICES (INCLUDING MUSTARD SEED); MONOSODIUM GLUTAMATE; GARLIC*; ONION*; XANTHAN GUM; MOLASSES; CALCIUM DISODIUM EDTA ADDED TO PROTECT FLAVOR; VINEGAR; CORN...</td>\n",
       "      <td>https://www.edamam.com/food-img/ab2/ab2459fc2a98cd35f68b848be2337ecb.jpg</td>\n",
       "    </tr>\n",
       "    <tr>\n",
       "      <th>6</th>\n",
       "      <td>food_alpl44taoyv11ra0lic1qa8xculi</td>\n",
       "      <td>Champagne Buttercream</td>\n",
       "      <td>Generic meals</td>\n",
       "      <td>sugar; butter; shortening; vanilla; champagne; milk</td>\n",
       "      <td>NaN</td>\n",
       "    </tr>\n",
       "    <tr>\n",
       "      <th>7</th>\n",
       "      <td>food_byap67hab6evc3a0f9w1oag3s0qf</td>\n",
       "      <td>Champagne Sorbet</td>\n",
       "      <td>Generic meals</td>\n",
       "      <td>Sugar; Lemon juice; brandy; Champagne; Peach</td>\n",
       "      <td>NaN</td>\n",
       "    </tr>\n",
       "    <tr>\n",
       "      <th>8</th>\n",
       "      <td>food_am5egz6aq3fpjlaf8xpkdbc2asis</td>\n",
       "      <td>Champagne Truffles</td>\n",
       "      <td>Generic meals</td>\n",
       "      <td>butter; cocoa; sweetened condensed milk; vanilla extract; champagne; powdered sugar</td>\n",
       "      <td>NaN</td>\n",
       "    </tr>\n",
       "    <tr>\n",
       "      <th>9</th>\n",
       "      <td>food_bcz8rhiajk1fuva0vkfmeakbouc0</td>\n",
       "      <td>Champagne Vinaigrette</td>\n",
       "      <td>Generic meals</td>\n",
       "      <td>champagne vinegar; olive oil; Dijon mustard; shallot; honey; Salt; pepper</td>\n",
       "      <td>NaN</td>\n",
       "    </tr>\n",
       "  </tbody>\n",
       "</table>\n",
       "</div>"
      ],
      "text/plain": [
       "                              foodId                             label  \\\n",
       "0  food_a656mk2a5dmqb2adiamu6beihduu                         Champagne   \n",
       "1  food_b753ithamdb8psbt0w2k9aquo06c  Champagne Vinaigrette, Champagne   \n",
       "2  food_b3dyababjo54xobm6r8jzbghjgqe  Champagne Vinaigrette, Champagne   \n",
       "3  food_a9e0ghsamvoc45bwa2ybsa3gken9  Champagne Vinaigrette, Champagne   \n",
       "4  food_an4jjueaucpus2a3u1ni8auhe7q9  Champagne Vinaigrette, Champagne   \n",
       "5  food_bmu5dmkazwuvpaa5prh1daa8jxs0     Champagne Dressing, Champagne   \n",
       "6  food_alpl44taoyv11ra0lic1qa8xculi             Champagne Buttercream   \n",
       "7  food_byap67hab6evc3a0f9w1oag3s0qf                  Champagne Sorbet   \n",
       "8  food_am5egz6aq3fpjlaf8xpkdbc2asis                Champagne Truffles   \n",
       "9  food_bcz8rhiajk1fuva0vkfmeakbouc0             Champagne Vinaigrette   \n",
       "\n",
       "         category  \\\n",
       "0   Generic foods   \n",
       "1  Packaged foods   \n",
       "2  Packaged foods   \n",
       "3  Packaged foods   \n",
       "4  Packaged foods   \n",
       "5  Packaged foods   \n",
       "6   Generic meals   \n",
       "7   Generic meals   \n",
       "8   Generic meals   \n",
       "9   Generic meals   \n",
       "\n",
       "                                                                                                                                                                                                                                           foodContentsLabel  \\\n",
       "0                                                                                                                                                                                                                                                        NaN   \n",
       "1                                                                                                                                                                           OLIVE OIL; BALSAMIC VINEGAR; CHAMPAGNE VINEGAR; GARLIC; DIJON MUSTARD; SEA SALT.   \n",
       "2                                                                                                                   INGREDIENTS: WATER; CANOLA OIL; CHAMPAGNE VINEGAR; SUGAR; OLIVE OIL; SALT; DRIED GARLIC; DRED SHALLOTS; BLACK PEPPER; XANTHAN GUM; SPICE   \n",
       "3  CANOLA AND SOYBEAN OIL; WHITE WINE (CONTAINS SULFITES); WATER; VINEGARS (CHAMPAGNE AND WHITE WINE); SUGAR; SALT; MUSTARD SEED; MONOSODIUM GLUTAMATE; GARLIC*; ONION*; SPICE; XANTHAN GUM; MOLASSES; CALCIUM DISODIUM EDTA ADDED TO PROTECT FLAVOR; CHI...   \n",
       "4  WATER; CANOLA AND SOYBEAN OIL; WHITE WINE (CONTAINS SULFITES); VINEGARS (CHAMPAGNE AND WHITE WINE); SUGAR; SALT; MUSTARD SEED; MONOSODIUM GLUTAMATE; GARLIC*; ONION*; SPICE; XANTHAN GUM; POTASSIUM SORBATE ADDED TO MAINTAIN FRESHNESS; MOLASSES; CAL...   \n",
       "5  SOYBEAN OIL; WHITE WINE (PRESERVED WITH SULFITES); WATER; WHITE WINE VINEGAR; SUGAR; SALT; SPICES (INCLUDING MUSTARD SEED); MONOSODIUM GLUTAMATE; GARLIC*; ONION*; XANTHAN GUM; MOLASSES; CALCIUM DISODIUM EDTA ADDED TO PROTECT FLAVOR; VINEGAR; CORN...   \n",
       "6                                                                                                                                                                                                        sugar; butter; shortening; vanilla; champagne; milk   \n",
       "7                                                                                                                                                                                                               Sugar; Lemon juice; brandy; Champagne; Peach   \n",
       "8                                                                                                                                                                        butter; cocoa; sweetened condensed milk; vanilla extract; champagne; powdered sugar   \n",
       "9                                                                                                                                                                                  champagne vinegar; olive oil; Dijon mustard; shallot; honey; Salt; pepper   \n",
       "\n",
       "                                                                      image  \n",
       "0  https://www.edamam.com/food-img/a71/a718cf3c52add522128929f1f324d2ab.jpg  \n",
       "1                                                                       NaN  \n",
       "2  https://www.edamam.com/food-img/d88/d88b64d97349ed062368972113124e35.jpg  \n",
       "3                                                                       NaN  \n",
       "4                                                                       NaN  \n",
       "5  https://www.edamam.com/food-img/ab2/ab2459fc2a98cd35f68b848be2337ecb.jpg  \n",
       "6                                                                       NaN  \n",
       "7                                                                       NaN  \n",
       "8                                                                       NaN  \n",
       "9                                                                       NaN  "
      ]
     },
     "execution_count": 161,
     "metadata": {},
     "output_type": "execute_result"
    }
   ],
   "source": [
    "# 10 premiers produits à base de champagne\n",
    "first_produits_10 = edamam_use(\"champagne\")[0:10]\n",
    "first_produits_10"
   ]
  },
  {
   "cell_type": "code",
   "execution_count": 162,
   "id": "5a45e27a",
   "metadata": {},
   "outputs": [],
   "source": [
    "# Save des 10 premiers produits à base de champagne\n",
    "first_produits_10.to_csv(\"first_produits_10.csv\")"
   ]
  }
 ],
 "metadata": {
  "kernelspec": {
   "display_name": "Python 3 (ipykernel)",
   "language": "python",
   "name": "python3"
  },
  "language_info": {
   "codemirror_mode": {
    "name": "ipython",
    "version": 3
   },
   "file_extension": ".py",
   "mimetype": "text/x-python",
   "name": "python",
   "nbconvert_exporter": "python",
   "pygments_lexer": "ipython3",
   "version": "3.8.18"
  }
 },
 "nbformat": 4,
 "nbformat_minor": 5
}
